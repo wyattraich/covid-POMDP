{
 "cells": [
  {
   "cell_type": "code",
   "execution_count": null,
   "metadata": {},
   "outputs": [],
   "source": [
    "using POMDPs\n",
    "using Random # for AbstractRNG\n",
    "using POMDPModelTools # for Deterministic\n",
    "using QMDP, DiscreteValueIteration\n",
    "using POMDPSolve\n",
    "using FIB # For the solver\n",
    "using BasicPOMCP # For the solver\n",
    "using POMDPPolicies # For creating a random policy"
   ]
  },
  {
   "cell_type": "code",
   "execution_count": null,
   "metadata": {},
   "outputs": [],
   "source": [
    "#define struct for covid POMDP\n",
    "struct CovidPOMDP <: POMDP{Tuple{Float64,Float64,Float64,Float64}, Tuple{Float64,Float64}, Tuple{Float64,Float64}}\n",
    "    inf_r::Float64 #natural infection rate\n",
    "    rec_r::Float64 #natural recovery rate\n",
    "    sus_r::Float64 #natural susceptibility rate\n",
    "    dea_r::Float64 #natural death rate\n",
    "    fp_r::Float64 #false pos rate\n",
    "    fn_r::Float64 #false neg rate\n",
    "    discount::Float64 #discount factor\n",
    "end\n",
    "\n",
    "CovidPOMDP() = CovidPOMDP(0.01, 0.2, 0.2, 0.02, 0.05, 0.05, 0.9); #instance of struct\n"
   ]
  },
  {
   "cell_type": "code",
   "execution_count": null,
   "metadata": {},
   "outputs": [],
   "source": [
    "#generative function see here for explanation: \n",
    "# https://github.com/JuliaPOMDP/POMDPExamples.jl/blob/master/notebooks/Defining-a-POMDP-with-the-Generative-Interface.ipynb\n",
    "\n",
    "function POMDPs.gen(m::CovidPOMDP, s, a, rng)\n",
    "    #transition\n",
    "    (su,i,rec,d) = s\n",
    "    (sd_r,test_r) = a\n",
    "    _su = su*(1- m.inf_r*(1-sd_r)) + rec*m.sus_r\n",
    "    _i = i*(1-(m.dea_r*exp(i))-m.inf_r)+su*m.inf_r*(1-sd_r)\n",
    "    _rec = rec*(1-m.dea_r)+i*m.rec_r\n",
    "    _d = d + i*m.dea_r*exp(i)\n",
    "    sp = (_su,_i,_rec,_d)\n",
    "    \n",
    "    #find reward\n",
    "    r = -10*d-(su+i+rec)*((1/(1-sd_r)))+test_r-1)\n",
    "    \n",
    "    #observation update\n",
    "    o = (0.8,0.8)\n",
    "    \n",
    "    return (sp=sp, o=o, r=r)\n",
    "end"
   ]
  },
  {
   "cell_type": "code",
   "execution_count": null,
   "metadata": {},
   "outputs": [],
   "source": [
    "#additional methods needed for solvers see below for Tiger example:\n",
    "#https://github.com/JuliaPOMDP/POMDPModels.jl/blob/master/src/TigerPOMDPs.jl\n",
    "POMDPs.initialstate_distribution(m::CovidPOMDP) = Deterministic((1.0,0.0,0.0,0.0))\n",
    "#POMDPs.actions(::CovidPOMDP) = ([0., 1.],[0.,1.])\n",
    "#POMDPs.states(::CovidPOMDP) = ([0., 1.],[0.,1.],[0., 1.],[0.,1.])\n",
    "#POMDPs.observations(::CovidPOMDP) = ([0., 1.],[0.,1.])\n",
    "#POMDPs.discount(::CovidPOMDP) = 0.9"
   ]
  },
  {
   "cell_type": "code",
   "execution_count": null,
   "metadata": {},
   "outputs": [],
   "source": [
    "#simulate static policy\n",
    "using POMDPSimulators\n",
    "using POMDPPolicies\n",
    "\n",
    "m = CovidPOMDP()\n",
    "\n",
    "# policy that maps every input to a feed (true) action\n",
    "policy = FunctionPolicy(o->(0.1,0.0))\n",
    "\n",
    "for (s, a, r) in stepthrough(m, policy, \"s,a,r\", max_steps=50)\n",
    "    @show s\n",
    "    @show a\n",
    "    @show r\n",
    "    println()\n",
    "end"
   ]
  },
  {
   "cell_type": "code",
   "execution_count": null,
   "metadata": {},
   "outputs": [],
   "source": [
    "#Offline Solvers\n",
    "pomdp = CovidPOMDP()\n",
    "\n",
    "solver = QMDPSolver()\n",
    "policy = solve(solver, pomdp)\n",
    "\n",
    "#solver = POMDPSolveSolver()\n",
    "#solve(solver, pomdp) # returns an AlphaVectorPolicy\n",
    "#solver = FIBSolver()\n",
    "#policy = solve(solver, pomdp)"
   ]
  },
  {
   "cell_type": "code",
   "execution_count": null,
   "metadata": {},
   "outputs": [],
   "source": []
  }
 ],
 "metadata": {
  "kernelspec": {
   "display_name": "Julia 1.3.1",
   "language": "julia",
   "name": "julia-1.3"
  },
  "language_info": {
   "file_extension": ".jl",
   "mimetype": "application/julia",
   "name": "julia",
   "version": "1.3.1"
  }
 },
 "nbformat": 4,
 "nbformat_minor": 2
}
