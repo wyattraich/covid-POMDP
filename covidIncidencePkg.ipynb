{
 "cells": [
  {
   "cell_type": "code",
   "execution_count": null,
   "metadata": {},
   "outputs": [],
   "source": [
    "using COVIDIncidencePOMDPs\n",
    "using POMCPOW\n",
    "using POMDPModelTools\n",
    "using Distributions\n",
    "using POMDPSimulators\n",
    "using POMDPs\n",
    "using POMDPPolicies\n",
    "using Random\n",
    "#using ARDESPOT\n",
    "using ParticleFilters\n",
    "#using Statistics\n",
    "#using UUIDs\n",
    "#using MCTS\n",
    "#using MCVI\n",
    "#using Parameters\n",
    "using POMCPOW\n",
    "#using Roots\n",
    "#using SpecialFunctions\n",
    "#using QuadGK\n",
    "#using LinearAlgebra\n",
    "\n"
   ]
  },
  {
   "cell_type": "code",
   "execution_count": null,
   "metadata": {},
   "outputs": [],
   "source": [
    "p = PARAM_MAPPING[\"good\"]\n",
    "\n",
    "k, lam = get_weibull_params(p.MEAN_GEN_TIME, p.STD_GEN_TIME)\n",
    "gen_func = discrete_weibull(k, lam, p.TOTAL_TIME)\n",
    "base_R0 = calc_R0(k, lam, p.EXP_GROWTH, p.TOTAL_TIME)\n",
    "initial_incidences = ones(Float64, p.TOTAL_TIME) * p.INFECTION_SEED\n",
    "#initial_belief = InitialBeliefDistribution(initial_incidences, p.NUM_LEVELS)\n",
    "initial_belief = InitialBeliefDistribution(initial_incidences, 10.0, p.NUM_LEVELS)\n",
    "\n",
    "covid_pomdp = CovidPOMDP(base_R0, gen_func, initial_incidences, p)\n",
    "\n",
    "solver = POMCPOWSolver(max_depth=20, tree_queries=1,\n",
    "    k_observation=6.0, alpha_observation=1/20., enable_action_pw=false)#,\n",
    "    #estimate_value=RolloutEstimator(FixedSolver()))\n",
    "\n",
    "planner = solve(solver, covid_pomdp)\n",
    "updater = SIRParticleFilter(covid_pomdp, 100)\n",
    "\n",
    "#stepper = stepthrough(covid_pomdp, planner, updator, initial_belief, \"b,s,sp,a,o,r\", max_steps=200)\n",
    "\n",
    "#sim = RolloutSimulator()\n",
    "sim = HistoryRecorder(max_steps=100)\n",
    "stepper = simulate(sim, covid_pomdp, planner, updater, initial_belief)\n",
    "\n",
    "for (s, b, a, r, sp, o) in stepper\n",
    "    #@show s, b, a, r, sp, o\n",
    "    @show r\n",
    "end"
   ]
  }
 ],
 "metadata": {
  "kernelspec": {
   "display_name": "Julia 1.3.1",
   "language": "julia",
   "name": "julia-1.3"
  },
  "language_info": {
   "file_extension": ".jl",
   "mimetype": "application/julia",
   "name": "julia",
   "version": "1.3.1"
  }
 },
 "nbformat": 4,
 "nbformat_minor": 2
}
