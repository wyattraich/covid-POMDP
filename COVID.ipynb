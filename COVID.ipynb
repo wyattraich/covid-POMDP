{
 "cells": [
  {
   "cell_type": "code",
   "execution_count": 17,
   "metadata": {},
   "outputs": [],
   "source": [
    "using POMDPs\n",
    "using Random # for AbstractRNG\n",
    "using POMDPModelTools # for Deterministic\n",
    "using POMDPSolve\n",
    "using BasicPOMCP # For the solver\n",
    "using POMDPPolicies # For creating a random policy\n",
    "using POMCPOW\n",
    "import POMDPs.observation\n",
    "using Distributions\n",
    "using BeliefUpdaters\n",
    "using ParticleFilters"
   ]
  },
  {
   "cell_type": "code",
   "execution_count": 18,
   "metadata": {},
   "outputs": [],
   "source": [
    "#define struct for covid POMDP\n",
    "struct CovidPOMDP <: POMDP{Tuple{Float64,Float64,Float64,Float64,Float64,Float64,Float64,Float64,Float64}, Tuple{Float64,Float64}, Tuple{Int64,Int64}}\n",
    "    inf_r::Float64 #natural infection rate\n",
    "    rec_r::Float64 #natural recovery rate\n",
    "    sus_r::Float64 #natural susceptibility rate\n",
    "    dea_r::Float64 #natural death rate\n",
    "    fp_r::Float64 #false pos rate\n",
    "    fn_r::Float64 #false neg rate\n",
    "    discount::Float64 #discount factor\n",
    "end\n",
    "\n",
    "CovidPOMDP() = CovidPOMDP(0.01, 0.2, 0.2, 0.02, 0.05, 0.05, 0.9); #instance of struct\n"
   ]
  },
  {
   "cell_type": "code",
   "execution_count": 19,
   "metadata": {},
   "outputs": [],
   "source": [
    "#generative function see here for explanation: \n",
    "# https://github.com/JuliaPOMDP/POMDPExamples.jl/blob/master/notebooks/Defining-a-POMDP-with-the-Generative-Interface.ipynb\n",
    "\n",
    "function POMDPs.gen(m::CovidPOMDP, s, a, rng)\n",
    "    #transition\n",
    "    #(su,i,rec,d) = s\n",
    "    #(sd_r,test_r) = a\n",
    "    #_su = su*(1- m.inf_r*(1-sd_r)) + rec*m.sus_r\n",
    "    #_i = i*(1-(m.dea_r*exp(i))-m.inf_r)+su*m.inf_r*(1-sd_r)\n",
    "    #_rec = rec*(1-m.dea_r)+i*m.rec_r\n",
    "    #_d = d + i*m.dea_r*exp(i)\n",
    "    #sp = (_su,_i,_rec,_d)\n",
    "    \n",
    "    #(S,I0,D,Es,Eq,Et,Esd,Eqd,Etd) = s\n",
    "    \n",
    "    #es = (2/pi)\n",
    "    \n",
    "    #Es_ = max(Es+Esd,0)\n",
    "    #Eq_ = max(Eq+Eqd,0)\n",
    "    #Ed_ = max(Ed+Edd,0)\n",
    "    \n",
    "    sp = (0.0,0.0,0.0,0.0,0.0,0.0,0.0,0.0,0.0)\n",
    "    \n",
    "    #find reward\n",
    "    #r = -10*d-(su+i+rec)*((1/(1-sd_r)))+test_r-1\n",
    "    #observation update\n",
    "    #o = (0.0,0.0)\n",
    "    r = 0\n",
    "    \n",
    "    return (sp=sp, r=r)\n",
    "end"
   ]
  },
  {
   "cell_type": "code",
   "execution_count": 20,
   "metadata": {},
   "outputs": [],
   "source": [
    "POMDPs.discount(m::CovidPOMDP) = m.discount\n",
    "POMDPs.reward(m::CovidPOMDP) = 0"
   ]
  },
  {
   "cell_type": "code",
   "execution_count": 25,
   "metadata": {},
   "outputs": [
    {
     "name": "stdout",
     "output_type": "stream",
     "text": [
      "actions(m) = ([-1, 0, 1], [-1, 0, 1])\n"
     ]
    }
   ],
   "source": [
    "POMDPs.actions(m::CovidPOMDP) = ([-1,0,1],[-1,0,1])\n",
    "@show actions(m)\n",
    "POMDPs.initialstate_distribution(m::CovidPOMDP) = Deterministic((0.8,0.2,0.0,0.0,0.0,0.0,0.0,0.0,0.0))"
   ]
  },
  {
   "cell_type": "code",
   "execution_count": 26,
   "metadata": {},
   "outputs": [],
   "source": [
    "d = Normal()\n",
    "function POMDPs.observation(::CovidPOMDP, d, ::Any, ::Any)\n",
    "    return d\n",
    "end"
   ]
  },
  {
   "cell_type": "code",
   "execution_count": 27,
   "metadata": {},
   "outputs": [
    {
     "name": "stdout",
     "output_type": "stream",
     "text": [
      "s = (0.8, 0.2, 0.0, 0.0, 0.0, 0.0, 0.0, 0.0, 0.0)\n",
      "a = (-1, 1)\n",
      "r = 0\n",
      "o = 0.0\n",
      "\n",
      "s = (0.0, 0.0, 0.0, 0.0, 0.0, 0.0, 0.0, 0.0, 0.0)\n",
      "a = (-1, 1)\n",
      "r = 0\n",
      "o = 0.0\n",
      "\n",
      "s = (0.0, 0.0, 0.0, 0.0, 0.0, 0.0, 0.0, 0.0, 0.0)\n",
      "a = (-1, 1)\n",
      "r = 0\n",
      "o = 0.0\n",
      "\n",
      "s = (0.0, 0.0, 0.0, 0.0, 0.0, 0.0, 0.0, 0.0, 0.0)\n",
      "a = (-1, 1)\n",
      "r = 0\n",
      "o = 0.0\n",
      "\n",
      "s = (0.0, 0.0, 0.0, 0.0, 0.0, 0.0, 0.0, 0.0, 0.0)\n",
      "a = (-1, 1)\n",
      "r = 0\n",
      "o = 0.0\n",
      "\n"
     ]
    }
   ],
   "source": [
    "#simulate static policy\n",
    "using POMDPSimulators\n",
    "using POMDPPolicies\n",
    "\n",
    "m = CovidPOMDP()\n",
    "\n",
    "# policy that maps every input to a feed (true) action\n",
    "policy = FunctionPolicy(o->(-1,1))\n",
    "\n",
    "for (s, a, r, o) in stepthrough(m, policy, \"s,a,r,o\", max_steps=5)\n",
    "    @show s\n",
    "    @show a\n",
    "    @show r\n",
    "    @show o\n",
    "    println()\n",
    "end"
   ]
  },
  {
   "cell_type": "code",
   "execution_count": 28,
   "metadata": {},
   "outputs": [
    {
     "ename": "MethodError",
     "evalue": "MethodError: no method matching push_anode!(::POMCPOWTree{POWNodeBelief{NTuple{9,Float64},Tuple{Float64,Float64},Tuple{Int64,Int64},CovidPOMDP},Tuple{Float64,Float64},Tuple{Int64,Int64},ParticleCollection{NTuple{9,Float64}}}, ::Int64, ::Array{Int64,1}, ::Int64, ::Float64, ::Bool)\nClosest candidates are:\n  push_anode!(::POMCPOWTree{B,A,O,RB} where RB, ::Int64, !Matched::A, ::Int64, ::Float64, ::Any) where {B, A, O} at /Users/wyattraich/.julia/packages/POMCPOW/7FCnV/src/tree.jl:42\n  push_anode!(::POMCPOWTree{B,A,O,RB} where RB, ::Int64, !Matched::A, ::Int64, ::Float64) where {B, A, O} at /Users/wyattraich/.julia/packages/POMCPOW/7FCnV/src/tree.jl:42\n  push_anode!(::POMCPOWTree{B,A,O,RB} where RB, ::Int64, !Matched::A, ::Int64) where {B, A, O} at /Users/wyattraich/.julia/packages/POMCPOW/7FCnV/src/tree.jl:42\n  ...",
     "output_type": "error",
     "traceback": [
      "MethodError: no method matching push_anode!(::POMCPOWTree{POWNodeBelief{NTuple{9,Float64},Tuple{Float64,Float64},Tuple{Int64,Int64},CovidPOMDP},Tuple{Float64,Float64},Tuple{Int64,Int64},ParticleCollection{NTuple{9,Float64}}}, ::Int64, ::Array{Int64,1}, ::Int64, ::Float64, ::Bool)\nClosest candidates are:\n  push_anode!(::POMCPOWTree{B,A,O,RB} where RB, ::Int64, !Matched::A, ::Int64, ::Float64, ::Any) where {B, A, O} at /Users/wyattraich/.julia/packages/POMCPOW/7FCnV/src/tree.jl:42\n  push_anode!(::POMCPOWTree{B,A,O,RB} where RB, ::Int64, !Matched::A, ::Int64, ::Float64) where {B, A, O} at /Users/wyattraich/.julia/packages/POMCPOW/7FCnV/src/tree.jl:42\n  push_anode!(::POMCPOWTree{B,A,O,RB} where RB, ::Int64, !Matched::A, ::Int64) where {B, A, O} at /Users/wyattraich/.julia/packages/POMCPOW/7FCnV/src/tree.jl:42\n  ...",
      "",
      "Stacktrace:",
      " [1] simulate(::POMCPOWPlanner{CovidPOMDP,POMCPOW.POWNodeFilter,MaxUCB,MCTS.RandomActionGenerator{Random._GLOBAL_RNG},BasicPOMCP.SolvedPORollout{RandomPolicy{Random._GLOBAL_RNG,CovidPOMDP,NothingUpdater},NothingUpdater,Random._GLOBAL_RNG},Int64,Float64,POMCPOWSolver{Random._GLOBAL_RNG}}, ::POWTreeObsNode{POWNodeBelief{NTuple{9,Float64},Tuple{Float64,Float64},Tuple{Int64,Int64},CovidPOMDP},Tuple{Float64,Float64},Tuple{Int64,Int64},ParticleCollection{NTuple{9,Float64}}}, ::NTuple{9,Float64}, ::Int64) at /Users/wyattraich/.julia/packages/POMCPOW/7FCnV/src/solver2.jl:21",
      " [2] search(::POMCPOWPlanner{CovidPOMDP,POMCPOW.POWNodeFilter,MaxUCB,MCTS.RandomActionGenerator{Random._GLOBAL_RNG},BasicPOMCP.SolvedPORollout{RandomPolicy{Random._GLOBAL_RNG,CovidPOMDP,NothingUpdater},NothingUpdater,Random._GLOBAL_RNG},Int64,Float64,POMCPOWSolver{Random._GLOBAL_RNG}}, ::POMCPOWTree{POWNodeBelief{NTuple{9,Float64},Tuple{Float64,Float64},Tuple{Int64,Int64},CovidPOMDP},Tuple{Float64,Float64},Tuple{Int64,Int64},ParticleCollection{NTuple{9,Float64}}}, ::Dict{Symbol,Any}) at /Users/wyattraich/.julia/packages/POMCPOW/7FCnV/src/planner2.jl:65",
      " [3] #action_info#5(::Bool, ::typeof(action_info), ::POMCPOWPlanner{CovidPOMDP,POMCPOW.POWNodeFilter,MaxUCB,MCTS.RandomActionGenerator{Random._GLOBAL_RNG},BasicPOMCP.SolvedPORollout{RandomPolicy{Random._GLOBAL_RNG,CovidPOMDP,NothingUpdater},NothingUpdater,Random._GLOBAL_RNG},Int64,Float64,POMCPOWSolver{Random._GLOBAL_RNG}}, ::ParticleCollection{NTuple{9,Float64}}) at /Users/wyattraich/.julia/packages/POMCPOW/7FCnV/src/planner2.jl:34",
      " [4] action_info at /Users/wyattraich/.julia/packages/POMCPOW/7FCnV/src/planner2.jl:28 [inlined]",
      " [5] action(::POMCPOWPlanner{CovidPOMDP,POMCPOW.POWNodeFilter,MaxUCB,MCTS.RandomActionGenerator{Random._GLOBAL_RNG},BasicPOMCP.SolvedPORollout{RandomPolicy{Random._GLOBAL_RNG,CovidPOMDP,NothingUpdater},NothingUpdater,Random._GLOBAL_RNG},Int64,Float64,POMCPOWSolver{Random._GLOBAL_RNG}}, ::ParticleCollection{NTuple{9,Float64}}) at /Users/wyattraich/.julia/packages/POMCPOW/7FCnV/src/planner2.jl:44",
      " [6] top-level scope at In[28]:10"
     ]
    }
   ],
   "source": [
    "#solvers\n",
    "d = Deterministic((0.8, 0.2, 0.0, 0.0, 0.0, 0.0, 0.0, 0.0, 0.0))\n",
    "solver = POMCPOWSolver(criterion=MaxUCB(20.0),)\n",
    "pomdp = CovidPOMDP()\n",
    "planner = solve(solver, pomdp)\n",
    "rng = MersenneTwister();\n",
    "up = SIRParticleFilter(m, 100, rng=rng)\n",
    "\n",
    "b = initialize_belief(up, d)\n",
    "\n",
    "action(planner,b)\n",
    "\n",
    "#rng = MersenneTwister();\n",
    "\n",
    "#sim = RolloutSimulator()\n",
    "\n",
    "#importance sampling particle filter\n",
    "\n",
    "#hist = simulate(sim, pomdp, planner, up, d, (0.8, 0.2, 0.0, 0.0, 0.0, 0.0, 0.0, 0.0, 0.0))\n",
    "#updater(policy::Policy) = Deterministic(1)\n",
    "#initialize_belief(updater, d) = (0.8, 0.2, 0.0, 0.0, 0.0, 0.0, 0.0, 0.0, 0.0)\n",
    "\n",
    "#hr = HistoryRecorder(max_steps=20)\n",
    "#hist = simulate(sim, pomdp, planner)\n",
    "#for (s, b, a, r, sp, o) in hist\n",
    "#    @show s, a, r, sp\n",
    "#end"
   ]
  },
  {
   "cell_type": "code",
   "execution_count": null,
   "metadata": {},
   "outputs": [],
   "source": [
    "policy = solve(POMCPOWSolver(), CovidPOMDP())\n",
    "@show_requirements action(policy)"
   ]
  },
  {
   "cell_type": "code",
   "execution_count": null,
   "metadata": {},
   "outputs": [],
   "source": []
  }
 ],
 "metadata": {
  "kernelspec": {
   "display_name": "Julia 1.3.1",
   "language": "julia",
   "name": "julia-1.3"
  },
  "language_info": {
   "file_extension": ".jl",
   "mimetype": "application/julia",
   "name": "julia",
   "version": "1.3.1"
  }
 },
 "nbformat": 4,
 "nbformat_minor": 2
}
